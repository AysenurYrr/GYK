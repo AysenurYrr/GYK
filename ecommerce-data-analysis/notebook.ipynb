{
  "nbformat": 4,
  "nbformat_minor": 0,
  "metadata": {
    "colab": {
      "provenance": []
    },
    "kernelspec": {
      "name": "python3",
      "display_name": "Python 3"
    },
    "language_info": {
      "name": "python"
    }
  },
  "cells": [
    {
      "cell_type": "markdown",
      "source": [
        "# Ödev: Bir E-Ticaret Şirketi İçin Veri Analizi ve Raporlama\n"
      ],
      "metadata": {
        "id": "vqwBfIPs-3fI"
      }
    },
    {
      "cell_type": "markdown",
      "source": [
        "**Pair-11**\n",
        "\n",
        "* Ayşenur Yörür aysenuryorur0@gmail.com\n",
        "* Buse Erarslan erarslanbuse01@gmail.com\n",
        "* Şerife Kaya kayaseriife@gmail.com\n",
        "* Sena Sücüllü senasucullu@gmail.com"
      ],
      "metadata": {
        "id": "SKhH6vADbnoh"
      }
    },
    {
      "cell_type": "markdown",
      "source": [
        "## Ödev Açıklaması:\n",
        "\n",
        "Bir e-ticaret şirketinde çalıştığınızı hayal edin. Şirket, müşterilerin alışveriş alışkanlıklarını anlamak, en çok satan ürünleri belirlemek ve kârlılığı artırmak için veri analizi yapmanızı istiyor. Size verilen satış verilerini NumPy kullanarak analiz etmeniz gerekiyor.\n",
        "\n",
        "1. Veri Seti (Üretilmesi Gereken Rastgele Veriler)\n",
        "Her öğrenci rastgele üretilmiş verilere dayalı analiz yapmalıdır. Aşağıdaki verileri NumPy kullanarak oluşturun:\n",
        "\n",
        "* 1000 müşterinin harcama tutarları (50 TL ile 5000 TL arasında rastgele)\n",
        "* 1000 müşterinin satın aldığı ürün sayıları (1 ile 10 arasında rastgele)\n",
        "* 1000 müşterinin indirimden yararlanıp yararlanmadığı (0: Hayır, 1: Evet - %30 * indirim aldı)\n",
        "* Ürün fiyatları (10 TL ile 1000 TL arasında rastgele)\n",
        "* Kategori bazlı satış adetleri (5 kategori için rastgele satış sayıları)\n",
        "\n",
        "2. İstenilen Analizler\n",
        "Aşağıdaki analizleri gerçekleştirin:\n",
        "\n",
        "  A. Temel İstatistikler\n",
        "    * Ortalama müşteri harcaması nedir? (mean)\n",
        "    * En yüksek ve en düşük harcama miktarları nedir? (max, min)\n",
        "    * Kaç müşteri indirim kullanmıştır? (sum)\n",
        "\n",
        "  B. Satış Analizi\n",
        "    * İndirim kullanan müşterilerin ortalama harcaması ile indirim kullanmayanların ortalama harcaması arasındaki farkı bulun.\n",
        "    * Toplam satış gelirini hesaplayın.\n",
        "    * En çok satılan ürünleri ve kategorileri belirleyin.\n",
        "    * Satın alınan ürün sayısı ile harcama arasında korelasyon var mı? (np.corrcoef() kullanarak)\n",
        "\n",
        "  C. Sezonluk Karşılaştırma (Geçen Yılla Kıyaslama)\n",
        "    * Geçen yılın verilerini rastgele oluşturarak bu yıl ile karşılaştırın. Satışlarda ortalama % kaç artış veya azalma olmuş?\n",
        "    * Geçen yıl en çok satılan ürün ile bu yıl en çok satılan ürünü karşılaştırın.\n",
        "\n",
        "  D. Stratejik Kararlar\n",
        "    * Elde edilen verilere dayanarak e-ticaret şirketine 3 öneri sunun. (Örneğin, indirimlerin satışlara etkisini değerlendirerek)"
      ],
      "metadata": {
        "id": "JF3ZchZI-7-d"
      }
    },
    {
      "cell_type": "markdown",
      "source": [
        "## Veri Seti Üretimi"
      ],
      "metadata": {
        "id": "hdUyQi46_08u"
      }
    },
    {
      "cell_type": "code",
      "source": [
        "import numpy as np\n",
        "n = 1000"
      ],
      "metadata": {
        "id": "Q2DW3NfeAdp_"
      },
      "execution_count": null,
      "outputs": []
    },
    {
      "cell_type": "markdown",
      "source": [
        "### **Müşterinin Harcama Tutarları**\n",
        "\n",
        "1000 müşterinin harcama tutarları (50 TL ile 5000 TL arasında rastgele)\n",
        "\n",
        "Seed consistency sağlıyor. Rastgele aynı değerlerin üretilmesinde rol alıyor.\n",
        "Müşterinin harcama tutarları.\n",
        "\n",
        "Örneğin\n",
        "* 1. müşteri 910 TL\n",
        "* 2. müşteri 3822 TL\n",
        "* 3. müşteri 3142 TL\n",
        "\n",
        "harcama yapmıştır"
      ],
      "metadata": {
        "id": "Y98L0qhMAb0g"
      }
    },
    {
      "cell_type": "code",
      "source": [
        "np.random.seed(42)\n",
        "total_spend = np.random.randint(50, 5000, n) #müşterinin harcama tutarları\n",
        "print(\"İlk 5:\",total_spend[0:5],\"...\")"
      ],
      "metadata": {
        "colab": {
          "base_uri": "https://localhost:8080/"
        },
        "id": "rXivK7cRBDcA",
        "outputId": "1cbece2e-95a4-4a2f-9e1c-8668f7065dce"
      },
      "execution_count": null,
      "outputs": [
        {
          "output_type": "stream",
          "name": "stdout",
          "text": [
            "İlk 5: [ 910 3822 3142  516 4476] ...\n"
          ]
        }
      ]
    },
    {
      "cell_type": "markdown",
      "source": [
        "### **Müşterinin Satın Aldığı Ürün Sayıları**\n",
        "\n",
        "Örneğin\n",
        "* 1. müşteri 7 ürün almıştır.\n",
        "* 2. müşteri 4 ürün almıştır.\n",
        "* 3. müşteri 8 ürün almıştır.\n",
        "\n",
        "Müşterilerin hangi ürünleri aldıklarını **bilmiyoruz**!"
      ],
      "metadata": {
        "id": "Q5JMXMWiCf5R"
      }
    },
    {
      "cell_type": "code",
      "source": [
        "np.random.seed(42)\n",
        "num_products = np.random.randint(1, 10, n)  #müşterinin satın aldığı ürün sayıları\n",
        "print(\"İlk 5:\",num_products[0:5],\"...\") #İlk 5'i yazdır"
      ],
      "metadata": {
        "colab": {
          "base_uri": "https://localhost:8080/"
        },
        "id": "T_LNvEURCSKB",
        "outputId": "45d7089d-5330-4963-ecec-e2ac79203a7f"
      },
      "execution_count": null,
      "outputs": [
        {
          "output_type": "stream",
          "name": "stdout",
          "text": [
            "İlk 5: [7 4 8 5 7] ...\n"
          ]
        }
      ]
    },
    {
      "cell_type": "markdown",
      "source": [
        "### **Müşterinin İndirimden Yararlanıp Yararlanmadığı**\n",
        "\n",
        "1000 müşterinin indirimden yararlanıp yararlanmadığı (0: Hayır, 1: Evet - %30 * indirim aldı)\n",
        "\n",
        "Örneğin\n",
        "* 1. müşteri 0 indrimden yararlanmamıştır.\n",
        "* 2. müşteri 1 indrimden yararlanmıştır.\n",
        "* 3. müşteri 1 indrimden yararlanmıştır.\n"
      ],
      "metadata": {
        "id": "XjWobpP3GwWF"
      }
    },
    {
      "cell_type": "code",
      "source": [
        "np.random.seed(42)\n",
        "has_discount = np.random.choice([0, 1], n, p=[0.7, 0.3]) #müşterinin indirimden yararlanıp yararlanmadığı\n",
        "print(\"İlk 5:\",has_discount[0:5],\"...\") #İlk 5'i yazdır"
      ],
      "metadata": {
        "colab": {
          "base_uri": "https://localhost:8080/"
        },
        "id": "_BfwZMnkFin3",
        "outputId": "4c729d55-fa88-48c0-80e4-2c476387fde6"
      },
      "execution_count": null,
      "outputs": [
        {
          "output_type": "stream",
          "name": "stdout",
          "text": [
            "İlk 5: [0 1 1 0 0] ...\n"
          ]
        }
      ]
    },
    {
      "cell_type": "markdown",
      "source": [
        "### Ürün Fiyatları\n",
        "\n",
        "Ürün fiyatları (10 TL ile 1000 TL arasında rastgele)\n",
        "\n",
        "20 ürünümüz olsun ve fiyatları da aşağıdaki gibi olsun. Örneğin...\n",
        "1. ürünün fiyatı 935,\n",
        "2. ürünün fiyatı 930\n",
        "3. ürünün fiyatı 368\n"
      ],
      "metadata": {
        "id": "fZ_tQneAHjQH"
      }
    },
    {
      "cell_type": "code",
      "source": [
        "np.random.seed(42)\n",
        "product_prices = np.random.randint(10, 1000, 20) #Ürün fiyatları\n",
        "print(product_prices,\"\\n\")\n",
        "\n",
        "product_names = np.array([f\"Product_{i+1}\" for i in range(len(product_prices))])\n",
        "\n",
        "# Ürün isimleri ve fiyatlarını birlikte gösterelim\n",
        "for name, price in zip(product_names, product_prices):\n",
        "    print(f\"{name}: {price} TL\")"
      ],
      "metadata": {
        "colab": {
          "base_uri": "https://localhost:8080/"
        },
        "id": "R0Vj7bUiI_qg",
        "outputId": "e734fdcd-dc2a-4567-f394-f8c42b54593d"
      },
      "execution_count": null,
      "outputs": [
        {
          "output_type": "stream",
          "name": "stdout",
          "text": [
            "[112 445 870 280 116  81 710  30 624 131 476 224 340 468  97 382 109 881\n",
            " 673 140] \n",
            "\n",
            "Product_1: 112 TL\n",
            "Product_2: 445 TL\n",
            "Product_3: 870 TL\n",
            "Product_4: 280 TL\n",
            "Product_5: 116 TL\n",
            "Product_6: 81 TL\n",
            "Product_7: 710 TL\n",
            "Product_8: 30 TL\n",
            "Product_9: 624 TL\n",
            "Product_10: 131 TL\n",
            "Product_11: 476 TL\n",
            "Product_12: 224 TL\n",
            "Product_13: 340 TL\n",
            "Product_14: 468 TL\n",
            "Product_15: 97 TL\n",
            "Product_16: 382 TL\n",
            "Product_17: 109 TL\n",
            "Product_18: 881 TL\n",
            "Product_19: 673 TL\n",
            "Product_20: 140 TL\n"
          ]
        }
      ]
    },
    {
      "cell_type": "markdown",
      "source": [
        "### Product Sales, Her ürün kaçar adet satılmış?"
      ],
      "metadata": {
        "id": "F3HRoCWwN7iM"
      }
    },
    {
      "cell_type": "code",
      "source": [
        "np.random.seed(42)\n",
        "total_products = np.sum(num_products)\n",
        "\n",
        "# Satış adetlerini rastgele belirle, toplam num_products olacak şekilde\n",
        "product_sales = np.random.multinomial(total_products, np.random.dirichlet(np.ones(20)))\n",
        "\n",
        "# Ürün isimlerini oluştur\n",
        "product_names = np.array([f\"Product_{i+1}\" for i in range(20)])\n",
        "\n",
        "# Sonuçları yazdıralım\n",
        "for name, sales in zip(product_names, product_sales):\n",
        "    print(f\"{name}: {sales} adet satıldı\")"
      ],
      "metadata": {
        "colab": {
          "base_uri": "https://localhost:8080/"
        },
        "id": "toMxgwXEOAA7",
        "outputId": "8d7829e6-1020-47f0-b7cb-989928e90bc9"
      },
      "execution_count": null,
      "outputs": [
        {
          "output_type": "stream",
          "name": "stdout",
          "text": [
            "Product_1: 111 adet satıldı\n",
            "Product_2: 813 adet satıldı\n",
            "Product_3: 350 adet satıldı\n",
            "Product_4: 240 adet satıldı\n",
            "Product_5: 43 adet satıldı\n",
            "Product_6: 44 adet satıldı\n",
            "Product_7: 10 adet satıldı\n",
            "Product_8: 502 adet satıldı\n",
            "Product_9: 257 adet satıldı\n",
            "Product_10: 320 adet satıldı\n",
            "Product_11: 5 adet satıldı\n",
            "Product_12: 955 adet satıldı\n",
            "Product_13: 470 adet satıldı\n",
            "Product_14: 67 adet satıldı\n",
            "Product_15: 61 adet satıldı\n",
            "Product_16: 53 adet satıldı\n",
            "Product_17: 125 adet satıldı\n",
            "Product_18: 190 adet satıldı\n",
            "Product_19: 176 adet satıldı\n",
            "Product_20: 106 adet satıldı\n"
          ]
        }
      ]
    },
    {
      "cell_type": "markdown",
      "source": [
        "### Kategoriler\n"
      ],
      "metadata": {
        "id": "4N29yvpAKP0g"
      }
    },
    {
      "cell_type": "code",
      "source": [
        "np.random.seed(42)\n",
        "\n",
        "# Kategori isimlerini belirle\n",
        "categories = np.array([\"C1\", \"C2\", \"C3\", \"C4\",\"C5\"])\n",
        "\n",
        "# Toplam ürün sayısına uygun olacak şekilde ürün kategorilerini belirle\n",
        "product_categories = np.random.choice(categories, total_products)"
      ],
      "metadata": {
        "id": "LK5Fl3noS8rH"
      },
      "execution_count": null,
      "outputs": []
    },
    {
      "cell_type": "code",
      "source": [
        "# Görüldüğü üzere toplam ürün sayısı ile kategoriler eşleştiler. Her ürünün kategorisi var artık.\n",
        "total_products,product_categories.shape"
      ],
      "metadata": {
        "colab": {
          "base_uri": "https://localhost:8080/"
        },
        "id": "t9qRMdONMN6L",
        "outputId": "40689798-f2ec-4b71-a4e9-201aff33946d"
      },
      "execution_count": null,
      "outputs": [
        {
          "output_type": "execute_result",
          "data": {
            "text/plain": [
              "(4898, (4898,))"
            ]
          },
          "metadata": {},
          "execution_count": 8
        }
      ]
    },
    {
      "cell_type": "code",
      "source": [
        "# Kategori bazlı satış adetlerini hesapla\n",
        "unique_categories, category_sales_counts = np.unique(product_categories, return_counts=True)\n",
        "category_sales = dict(zip(unique_categories, category_sales_counts))\n",
        "\n",
        "# Sonuçları yazdıralım (ilk 20 ürünü gösterelim)\n",
        "print(f\"Product Name \\t Category Name  Price    Sales Count\")\n",
        "for name, price, category, sales in zip(product_names, product_prices, product_categories, product_sales):\n",
        "    print(f\"{name} \\t {category}  \\t\\t{price} TL \\t {sales} adet satıldı\")"
      ],
      "metadata": {
        "colab": {
          "base_uri": "https://localhost:8080/"
        },
        "id": "gLJnAQUPLJJ6",
        "outputId": "0bd52783-ad60-4fa7-8833-58767840eec8"
      },
      "execution_count": null,
      "outputs": [
        {
          "output_type": "stream",
          "name": "stdout",
          "text": [
            "Product Name \t Category Name  Price    Sales Count\n",
            "Product_1 \t C4  \t\t112 TL \t 111 adet satıldı\n",
            "Product_2 \t C5  \t\t445 TL \t 813 adet satıldı\n",
            "Product_3 \t C3  \t\t870 TL \t 350 adet satıldı\n",
            "Product_4 \t C5  \t\t280 TL \t 240 adet satıldı\n",
            "Product_5 \t C5  \t\t116 TL \t 43 adet satıldı\n",
            "Product_6 \t C2  \t\t81 TL \t 44 adet satıldı\n",
            "Product_7 \t C3  \t\t710 TL \t 10 adet satıldı\n",
            "Product_8 \t C3  \t\t30 TL \t 502 adet satıldı\n",
            "Product_9 \t C3  \t\t624 TL \t 257 adet satıldı\n",
            "Product_10 \t C5  \t\t131 TL \t 320 adet satıldı\n",
            "Product_11 \t C4  \t\t476 TL \t 5 adet satıldı\n",
            "Product_12 \t C3  \t\t224 TL \t 955 adet satıldı\n",
            "Product_13 \t C5  \t\t340 TL \t 470 adet satıldı\n",
            "Product_14 \t C2  \t\t468 TL \t 67 adet satıldı\n",
            "Product_15 \t C4  \t\t97 TL \t 61 adet satıldı\n",
            "Product_16 \t C2  \t\t382 TL \t 53 adet satıldı\n",
            "Product_17 \t C4  \t\t109 TL \t 125 adet satıldı\n",
            "Product_18 \t C5  \t\t881 TL \t 190 adet satıldı\n",
            "Product_19 \t C1  \t\t673 TL \t 176 adet satıldı\n",
            "Product_20 \t C4  \t\t140 TL \t 106 adet satıldı\n"
          ]
        }
      ]
    },
    {
      "cell_type": "markdown",
      "source": [
        "## Temel İstatistikler\n",
        "\n",
        "A. Temel İstatistikler\n",
        "\n",
        "* Ortalama müşteri harcaması nedir? (mean)\n",
        "* En yüksek ve en düşük harcama miktarları nedir? (max, min)\n",
        "* Kaç müşteri indirim kullanmıştır? (sum)"
      ],
      "metadata": {
        "id": "uYKt5RtdSkpR"
      }
    },
    {
      "cell_type": "code",
      "source": [
        "# Temel istatistikler\n",
        "mean_spending = np.mean(total_spend)      # Ortalama harcama\n",
        "max_spending = np.max(total_spend)        # En yüksek harcama\n",
        "min_spending = np.min(total_spend)        # En düşük harcama\n",
        "discount_users = np.sum(has_discount)     # İndirim kullanan müşteri sayısı\n",
        "\n",
        "# Sonuçları yazdıralım\n",
        "print(f\"Ortalama müşteri harcaması: {mean_spending:.2f} TL\")\n",
        "print(f\"En yüksek harcama: {max_spending} TL\")\n",
        "print(f\"En düşük harcama: {min_spending} TL\")\n",
        "print(f\"İndirim kullanan müşteri sayısı: {discount_users}\")"
      ],
      "metadata": {
        "colab": {
          "base_uri": "https://localhost:8080/"
        },
        "id": "swgH9slzSkLR",
        "outputId": "0d329000-ac22-4c64-b8f5-c1dbd56bd12a"
      },
      "execution_count": null,
      "outputs": [
        {
          "output_type": "stream",
          "name": "stdout",
          "text": [
            "Ortalama müşteri harcaması: 2578.25 TL\n",
            "En yüksek harcama: 4998 TL\n",
            "En düşük harcama: 53 TL\n",
            "İndirim kullanan müşteri sayısı: 288\n"
          ]
        }
      ]
    },
    {
      "cell_type": "markdown",
      "source": [
        "##  B. Satış Analizi\n",
        "\n",
        "1. İndirim kullanan müşterilerin ortalama harcaması ile indirim kullanmayanların ortalama harcaması arasındaki farkı bulun.\n",
        "2. Toplam satış gelirini hesaplayın.\n",
        "3. En çok satılan ürünleri ve kategorileri belirleyin.\n",
        "4. Satın alınan ürün sayısı ile harcama arasında korelasyon var mı? (np.corrcoef() kullanarak)"
      ],
      "metadata": {
        "id": "DB9xWmhqS7Ex"
      }
    },
    {
      "cell_type": "markdown",
      "source": [
        "### B.1"
      ],
      "metadata": {
        "id": "LJaMgCRTWMVj"
      }
    },
    {
      "cell_type": "code",
      "source": [
        "avg_spending_discounted = np.mean(total_spend[has_discount == 1])\n",
        "avg_spending_non_discounted = np.mean(total_spend[has_discount == 0])\n",
        "spending_diff = avg_spending_non_discounted - avg_spending_discounted\n",
        "\n",
        "print(\"İndirim kullanan müşterilerin ortalama harcaması\", avg_spending_discounted)\n",
        "print(\"İndirim kullanmayan müşterilerin ortalama harcaması\", avg_spending_non_discounted)\n",
        "print(\"İndirim kullanmayanların kullananlardan farkı\", spending_diff)"
      ],
      "metadata": {
        "colab": {
          "base_uri": "https://localhost:8080/"
        },
        "id": "TzOmGjvXVRyU",
        "outputId": "e30ac5c3-ead6-4d87-c07e-8c6f55b42a7f"
      },
      "execution_count": null,
      "outputs": [
        {
          "output_type": "stream",
          "name": "stdout",
          "text": [
            "İndirim kullanan müşterilerin ortalama harcaması 2588.6180555555557\n",
            "İndirim kullanmayan müşterilerin ortalama harcaması 2574.0561797752807\n",
            "İndirim kullanmayanların kullananlardan farkı -14.561875780274931\n"
          ]
        }
      ]
    },
    {
      "cell_type": "markdown",
      "source": [
        "### B.2"
      ],
      "metadata": {
        "id": "08i-UX4pXNME"
      }
    },
    {
      "cell_type": "code",
      "source": [
        "total_revenue = np.sum(total_spend)\n",
        "print(\"Toplam satış geliri\", total_revenue, \"TL\")"
      ],
      "metadata": {
        "colab": {
          "base_uri": "https://localhost:8080/"
        },
        "id": "sdsrg6YMXOhF",
        "outputId": "403fa740-3b83-4a4d-f7d7-578d97479408"
      },
      "execution_count": null,
      "outputs": [
        {
          "output_type": "stream",
          "name": "stdout",
          "text": [
            "Toplam satış geliri 2578250 TL\n"
          ]
        }
      ]
    },
    {
      "cell_type": "markdown",
      "source": [
        "### B.3"
      ],
      "metadata": {
        "id": "llaTg0W3XhKd"
      }
    },
    {
      "cell_type": "code",
      "source": [
        "product_sales"
      ],
      "metadata": {
        "colab": {
          "base_uri": "https://localhost:8080/"
        },
        "id": "KbtGLIToYZrR",
        "outputId": "53b2c242-632b-46a6-ef8a-67021d22ceba"
      },
      "execution_count": null,
      "outputs": [
        {
          "output_type": "execute_result",
          "data": {
            "text/plain": [
              "array([111, 813, 350, 240,  43,  44,  10, 502, 257, 320,   5, 955, 470,\n",
              "        67,  61,  53, 125, 190, 176, 106])"
            ]
          },
          "metadata": {},
          "execution_count": 13
        }
      ]
    },
    {
      "cell_type": "code",
      "source": [
        "# 3. En çok satılan ürün ve kategori\n",
        "most_sold_product_index = np.argmax(product_sales)   #product_sales dizisindeki en büyük değerin indeksini bulur\n",
        "most_sold_product = product_names[most_sold_product_index]\n",
        "most_sold_product_count = product_sales[most_sold_product_index]\n",
        "\n",
        "most_sold_category = max(category_sales, key=category_sales.get)\n",
        "most_sold_category_count = category_sales[most_sold_category]\n",
        "\n",
        "print(f\"En çok satılan ürün: {most_sold_product} ({most_sold_product_count} adet)\")\n",
        "print(f\"En çok satılan kategori: {most_sold_category} ({most_sold_category_count} adet)\")"
      ],
      "metadata": {
        "colab": {
          "base_uri": "https://localhost:8080/"
        },
        "id": "RvlCkBnfXga8",
        "outputId": "073e1670-b277-43f9-e6eb-cb3195d0c804"
      },
      "execution_count": null,
      "outputs": [
        {
          "output_type": "stream",
          "name": "stdout",
          "text": [
            "En çok satılan ürün: Product_12 (955 adet)\n",
            "En çok satılan kategori: C5 (1007 adet)\n"
          ]
        }
      ]
    },
    {
      "cell_type": "markdown",
      "source": [
        "### B.4"
      ],
      "metadata": {
        "id": "vq2SkIG4YgI2"
      }
    },
    {
      "cell_type": "code",
      "source": [
        "product_sales"
      ],
      "metadata": {
        "colab": {
          "base_uri": "https://localhost:8080/"
        },
        "id": "Iurbk1EqZM5u",
        "outputId": "abf106ea-83f7-45fa-da6d-e1fbe1ff4658"
      },
      "execution_count": null,
      "outputs": [
        {
          "output_type": "execute_result",
          "data": {
            "text/plain": [
              "array([111, 813, 350, 240,  43,  44,  10, 502, 257, 320,   5, 955, 470,\n",
              "        67,  61,  53, 125, 190, 176, 106])"
            ]
          },
          "metadata": {},
          "execution_count": 15
        }
      ]
    },
    {
      "cell_type": "code",
      "source": [
        "#4. Satın alınan ürün sayısı ile harcama arasındaki korelasyon\n",
        "\n",
        "correlation = np.corrcoef(num_products, total_spend)\n",
        "print(\"Satın alınan ürün sayısı ile harcama arasındaki korelasyon:\\n\", correlation)"
      ],
      "metadata": {
        "colab": {
          "base_uri": "https://localhost:8080/"
        },
        "id": "5qiZ1OmUYlb2",
        "outputId": "09af10a3-da04-417b-f5e4-8ea8f2dc2348"
      },
      "execution_count": null,
      "outputs": [
        {
          "output_type": "stream",
          "name": "stdout",
          "text": [
            "Satın alınan ürün sayısı ile harcama arasındaki korelasyon:\n",
            " [[1.         0.04342137]\n",
            " [0.04342137 1.        ]]\n"
          ]
        }
      ]
    },
    {
      "cell_type": "markdown",
      "source": [
        "## C. Sezonluk Karşılaştırma (Geçen Yılla Kıyaslama)\n",
        "\n",
        "Geçen yılın verilerini rastgele oluşturarak bu yıl ile karşılaştırın. Satışlarda ortalama % kaç artış veya azalma olmuş?\n",
        "Geçen yıl en çok satılan ürün ile bu yıl en çok satılan ürünü karşılaştırın."
      ],
      "metadata": {
        "id": "-8QJsKFvZg1P"
      }
    },
    {
      "cell_type": "markdown",
      "source": [
        "### Geçen Yıl için VeriSeti"
      ],
      "metadata": {
        "id": "eAdt4GoFZ8-Q"
      }
    },
    {
      "cell_type": "code",
      "source": [
        "# Yeni veri setini üretmek için seed değerini 50 olarak ayarlayarak geçen yılın verilerini oluşturuyoruz\n",
        "\n",
        "np.random.seed(50)\n",
        "n_last_year = n  # Geçen yıl da aynı sayıda müşteri olsun\n",
        "\n",
        "# Geçen yılın müşteri harcama tutarları\n",
        "total_spend_last_year = np.random.randint(50, 5000, n_last_year)\n",
        "\n",
        "# Geçen yılın satın alınan ürün sayıları\n",
        "num_products_last_year = np.random.randint(1, 10, n_last_year)\n",
        "\n",
        "# Geçen yılın indirim kullanımı durumu\n",
        "has_discount_last_year = np.random.choice([0, 1], n_last_year, p=[0.7, 0.3])\n",
        "\n",
        "# Geçen yılın ürün fiyatları\n",
        "product_prices_last_year = np.random.randint(10, 1000, 20)\n",
        "\n",
        "# Geçen yılın ürün isimleri\n",
        "product_names_last_year = np.array([f\"Product_{i+1}\" for i in range(len(product_prices_last_year))])\n",
        "\n",
        "# Geçen yılın toplam satılan ürün sayısı\n",
        "total_products_last_year = np.sum(num_products_last_year)\n",
        "\n",
        "# Geçen yılın satış adetlerini rastgele belirle, toplam ürün sayısını koruyarak\n",
        "product_sales_last_year = np.random.multinomial(total_products_last_year, np.random.dirichlet(np.ones(20)))\n",
        "\n",
        "# Geçen yılın ürün kategorilerini belirle\n",
        "product_categories_last_year = np.random.choice(categories, total_products_last_year)\n",
        "\n",
        "# Geçen yılın kategori bazlı satış adetlerini hesapla\n",
        "unique_categories_last_year, category_sales_counts_last_year = np.unique(product_categories_last_year, return_counts=True)\n",
        "category_sales_last_year = dict(zip(unique_categories_last_year, category_sales_counts_last_year))\n",
        "\n",
        "# Sonuçları gösterelim\n",
        "print(f\"Product Name \\t Category Name  Price    Sales Count (Last Year)\")\n",
        "for name, price, category, sales in zip(product_names_last_year, product_prices_last_year, product_categories_last_year[:20], product_sales_last_year):\n",
        "    print(f\"{name} \\t {category}  \\t\\t{price} TL \\t {sales} adet satıldı\")\n"
      ],
      "metadata": {
        "colab": {
          "base_uri": "https://localhost:8080/"
        },
        "id": "5N7O6Mb6aAlq",
        "outputId": "6c646aba-3c09-4e6f-d30e-fd4e4916ecd3"
      },
      "execution_count": null,
      "outputs": [
        {
          "output_type": "stream",
          "name": "stdout",
          "text": [
            "Product Name \t Category Name  Price    Sales Count (Last Year)\n",
            "Product_1 \t C2  \t\t485 TL \t 357 adet satıldı\n",
            "Product_2 \t C2  \t\t870 TL \t 131 adet satıldı\n",
            "Product_3 \t C2  \t\t342 TL \t 99 adet satıldı\n",
            "Product_4 \t C1  \t\t474 TL \t 862 adet satıldı\n",
            "Product_5 \t C2  \t\t176 TL \t 18 adet satıldı\n",
            "Product_6 \t C1  \t\t480 TL \t 77 adet satıldı\n",
            "Product_7 \t C4  \t\t405 TL \t 563 adet satıldı\n",
            "Product_8 \t C1  \t\t536 TL \t 351 adet satıldı\n",
            "Product_9 \t C1  \t\t819 TL \t 130 adet satıldı\n",
            "Product_10 \t C4  \t\t896 TL \t 134 adet satıldı\n",
            "Product_11 \t C4  \t\t200 TL \t 59 adet satıldı\n",
            "Product_12 \t C4  \t\t657 TL \t 30 adet satıldı\n",
            "Product_13 \t C2  \t\t817 TL \t 724 adet satıldı\n",
            "Product_14 \t C2  \t\t44 TL \t 87 adet satıldı\n",
            "Product_15 \t C1  \t\t392 TL \t 268 adet satıldı\n",
            "Product_16 \t C2  \t\t487 TL \t 198 adet satıldı\n",
            "Product_17 \t C2  \t\t646 TL \t 354 adet satıldı\n",
            "Product_18 \t C2  \t\t646 TL \t 216 adet satıldı\n",
            "Product_19 \t C5  \t\t322 TL \t 236 adet satıldı\n",
            "Product_20 \t C2  \t\t440 TL \t 133 adet satıldı\n"
          ]
        }
      ]
    },
    {
      "cell_type": "markdown",
      "source": [
        "### Geçen yıl ve bu yılı karşılaştırma"
      ],
      "metadata": {
        "id": "szWJ3kSEa7lj"
      }
    },
    {
      "cell_type": "code",
      "source": [
        "# 1. Toplam satış adetlerinde yıllık değişim yüzdesi\n",
        "total_sales_current_year = np.sum(product_sales)\n",
        "total_sales_last_year = np.sum(product_sales_last_year)\n",
        "sales_change_percentage = ((total_sales_current_year - total_sales_last_year) / total_sales_last_year) * 100\n",
        "\n",
        "print(\"Toplam satış adedi (bu yıl)\", total_sales_current_year)\n",
        "print(\"Toplam satış adedi (geçen yıl)\", total_sales_last_year)\n",
        "print(\"Satış değişim yüzdesi\", sales_change_percentage)\n",
        "\n"
      ],
      "metadata": {
        "colab": {
          "base_uri": "https://localhost:8080/"
        },
        "id": "z3Yon_KhaZj5",
        "outputId": "a11c4887-a3aa-4c19-ac59-d5e911de4ed7"
      },
      "execution_count": null,
      "outputs": [
        {
          "output_type": "stream",
          "name": "stdout",
          "text": [
            "Toplam satış adedi (bu yıl) 4898\n",
            "Toplam satış adedi (geçen yıl) 5027\n",
            "Satış değişim yüzdesi -2.5661428287248857\n"
          ]
        }
      ]
    },
    {
      "cell_type": "code",
      "source": [
        "# 2. Geçen yıl ve bu yıl en çok satılan ürünleri karşılaştıralım\n",
        "most_sold_product_current_year_index = np.argmax(product_sales)\n",
        "most_sold_product_last_year_index = np.argmax(product_sales_last_year)\n",
        "\n",
        "most_sold_product_current_year = product_names[most_sold_product_current_year_index]\n",
        "most_sold_product_last_year = product_names_last_year[most_sold_product_last_year_index]\n",
        "\n",
        "most_sold_product_current_year_count = product_sales[most_sold_product_current_year_index]\n",
        "most_sold_product_last_year_count = product_sales_last_year[most_sold_product_last_year_index]\n",
        "\n",
        "print(\"Bu yıl en çok satılan ürün\", most_sold_product_current_year)\n",
        "print(\"Bu yıl en çok satılan ürün adedi\", most_sold_product_current_year_count)\n",
        "print(\"Geçen yıl en çok satılan ürün\", most_sold_product_last_year)\n",
        "print(\"Geçen yıl en çok satılan ürün adedi\", most_sold_product_last_year_count)\n"
      ],
      "metadata": {
        "colab": {
          "base_uri": "https://localhost:8080/"
        },
        "id": "14s7IYBoazAA",
        "outputId": "d516e568-565d-4f59-9690-69d7c7074947"
      },
      "execution_count": null,
      "outputs": [
        {
          "output_type": "stream",
          "name": "stdout",
          "text": [
            "Bu yıl en çok satılan ürün Product_12\n",
            "Bu yıl en çok satılan ürün adedi 955\n",
            "Geçen yıl en çok satılan ürün Product_4\n",
            "Geçen yıl en çok satılan ürün adedi 862\n"
          ]
        }
      ]
    },
    {
      "cell_type": "markdown",
      "source": [
        "### Stratejik Kararlar\n",
        "Elde edilen verilere dayanarak e-ticaret şirketine 3 öneri sunun. (Örneğin, indirimlerin satışlara etkisini değerlendirerek)"
      ],
      "metadata": {
        "id": "7x0T5sG0krQD"
      }
    },
    {
      "cell_type": "markdown",
      "source": [
        "Bu yıl en çok satılan ürün Product_12 (955 adet) olurken, geçen yılın en çok satan ürünü Product_4 (862 adet) idi. Ancak, toplam satışlarda geçen yıla kıyasla %2.56’lık bir düşüş yaşandı. Bu durum, müşteri taleplerinin değişebileceğini ve belirli ürünlere olan ilgide dalgalanmalar olabileceğini gösteriyor. Önerim, geçmiş yılların satış trendlerine bakılarak talebi yüksek ürünlerin stok seviyelerinin doğru planlanmasıdır."
      ],
      "metadata": {
        "id": "gHhVHePBbYKg"
      }
    },
    {
      "cell_type": "markdown",
      "source": [
        "Satış değişim yüzdesi negatif olduğu için, indirimlerin gerçekten satışları artırıp artırmadığı detaylı incelenmeli. Eğer indirim kullanan müşteriler toplam satış gelirine önemli bir katkı sağlamıyorsa, indirim kampanyalarının stratejisi gözden geçirilmeli. Bunun yerine, sadakat programları veya ücretsiz kargo gibi farklı teşvik yöntemleri denenebilir."
      ],
      "metadata": {
        "id": "xcRbHh-FbgWx"
      }
    },
    {
      "cell_type": "markdown",
      "source": [
        "Müşteri harcama alışkanlıklarına göre özel fırsatlar sunulabilir."
      ],
      "metadata": {
        "id": "WW7NMvWqXh4Z"
      }
    }
  ]
}